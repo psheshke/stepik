{
 "cells": [
  {
   "cell_type": "code",
   "execution_count": 1,
   "id": "obvious-dryer",
   "metadata": {},
   "outputs": [
    {
     "name": "stdout",
     "output_type": "stream",
     "text": [
      "3\n"
     ]
    }
   ],
   "source": [
    "n = int(input())\n",
    "\n",
    "matchs = []\n",
    "\n",
    "for i in range(n):\n",
    "    matchs.append(input().split(';'))\n",
    "    \n",
    "def update(d, t, s):\n",
    "    d[t]['count'] += 1\n",
    "    d[t]['score'] += s\n",
    "    if s == 3:\n",
    "        d[t]['wins'] += 1\n",
    "    elif s == 1:\n",
    "        d[t]['nich'] += 1\n",
    "    else:\n",
    "        d[t]['lose'] += 1\n",
    "    return d\n",
    "\n",
    "def new_team(d, t, s):\n",
    "    d[t] = {\n",
    "        'count': 0,\n",
    "        'wins': 0,\n",
    "        'nich': 0,\n",
    "        'lose': 0,\n",
    "        'score': 0\n",
    "    }\n",
    "    d = update(d, t, s)\n",
    "    return d\n",
    "\n",
    "d = {}\n",
    "\n",
    "for m in matchs:\n",
    "    t1 = m[0]\n",
    "    t2 = m[2]\n",
    "    if int(m[1]) < int(m[3]):\n",
    "        s1 = 0\n",
    "        s2 = 3\n",
    "    elif int(m[1]) == int(m[3]):\n",
    "        s1 = 1\n",
    "        s2 = 1\n",
    "    else:\n",
    "        s1 = 3\n",
    "        s2 = 0\n",
    "    if d.get(t1) != None:\n",
    "        d = update(d, t1, s1)\n",
    "    else:\n",
    "        d = new_team(d, t1, s1)\n",
    "    \n",
    "    if d.get(t2) != None:\n",
    "        d = update(d, t2, s2)\n",
    "    else:\n",
    "        d = new_team(d, t2, s2)\n",
    "\n",
    "for t in d.keys():\n",
    "    print(f\"{t}:{d[t]['count']} {d[t]['wins']} {d[t]['nich']} {d[t]['lose']} {d[t]['score']}\")"
   ]
  },
  {
   "cell_type": "code",
   "execution_count": null,
   "id": "premium-enemy",
   "metadata": {},
   "outputs": [],
   "source": []
  },
  {
   "cell_type": "code",
   "execution_count": 40,
   "id": "advisory-bulletin",
   "metadata": {},
   "outputs": [
    {
     "name": "stdout",
     "output_type": "stream",
     "text": [
      "abcd\n",
      "*d%#\n",
      "abacabadaba\n",
      "#*%*d*%\n"
     ]
    }
   ],
   "source": [
    "def decoding(d, to_decode):\n",
    "    decode = ''\n",
    "    for l in to_decode:\n",
    "        decode += d[l]\n",
    "    return decode\n",
    "\n",
    "def encoding(d, to_code):\n",
    "    encode = ''\n",
    "    for l in to_code:\n",
    "        encode += d[l]\n",
    "    return encode\n",
    "\n",
    "w1 = input()\n",
    "w2 = input()\n",
    "\n",
    "to_code = input()\n",
    "to_decode = input()\n",
    "\n",
    "d = {}\n",
    "f = {}\n",
    "\n",
    "for i in range(len(w1)):\n",
    "    d[w1[i]] = w2[i]\n",
    "    f[w2[i]] = w1[i]\n",
    "    \n",
    "encode = encoding(d, to_code)\n",
    "decode = decoding(f, to_decode)\n",
    "\n",
    "print(encode)\n",
    "print(decode)"
   ]
  },
  {
   "cell_type": "code",
   "execution_count": 47,
   "id": "traditional-electricity",
   "metadata": {},
   "outputs": [],
   "source": []
  },
  {
   "cell_type": "code",
   "execution_count": 53,
   "id": "cheap-prediction",
   "metadata": {},
   "outputs": [
    {
     "name": "stdout",
     "output_type": "stream",
     "text": [
      "4\n",
      "champions\n",
      "we\n",
      "are\n",
      "Stepik\n",
      "3\n",
      "We are the champignons\n",
      "We Are The Champions\n",
      "Stepic\n"
     ]
    }
   ],
   "source": [
    "d = int(input())\n",
    "\n",
    "words = []\n",
    "\n",
    "for i in range(d):\n",
    "    words.append(input().lower())\n",
    "    \n",
    "n = int(input())\n",
    "\n",
    "rows = []\n",
    "\n",
    "for i in range(n):\n",
    "    rows.append(input())\n",
    "    \n",
    "errs = []\n",
    "\n",
    "for row in rows:\n",
    "    for w in row.split():\n",
    "        if w.lower() not in words:\n",
    "            if w.lower() not in errs:\n",
    "                errs.append(w.lower())\n",
    "                \n",
    "for e in errs:\n",
    "    print(e)"
   ]
  },
  {
   "cell_type": "code",
   "execution_count": null,
   "id": "complete-freeze",
   "metadata": {},
   "outputs": [],
   "source": []
  },
  {
   "cell_type": "code",
   "execution_count": 64,
   "id": "indian-discharge",
   "metadata": {},
   "outputs": [
    {
     "name": "stdout",
     "output_type": "stream",
     "text": [
      "4\n",
      "север 10\n",
      "запад 20\n",
      "юг 30\n",
      "восток 40\n"
     ]
    }
   ],
   "source": [
    "n = int(input())\n",
    "\n",
    "cmds = []\n",
    "\n",
    "for i in range(n):\n",
    "    cmds.append(input().split())\n",
    "    \n",
    "coords = [0, 0]\n",
    "\n",
    "for cmd in cmds:\n",
    "    if cmd[0] == 'север':\n",
    "        coords[1] += int(cmd[1])\n",
    "    elif cmd[0] == 'юг':\n",
    "        coords[1] -= int(cmd[1])\n",
    "    elif cmd[0] == 'запад':\n",
    "        coords[0] -= int(cmd[1])\n",
    "    else:\n",
    "        coords[0] += int(cmd[1])\n",
    "        \n",
    "print(f'{coords[0]} {coords[1]}')"
   ]
  },
  {
   "cell_type": "code",
   "execution_count": null,
   "id": "racial-fireplace",
   "metadata": {},
   "outputs": [],
   "source": []
  },
  {
   "cell_type": "code",
   "execution_count": 96,
   "id": "joint-lending",
   "metadata": {},
   "outputs": [],
   "source": [
    "with open('filename.txt') as file:\n",
    "    lines = [line.rstrip().replace('\\t', ' ').split() for line in file]\n",
    "\n",
    "d = {}\n",
    "for line in lines:\n",
    "    if d.get(line[0]) == None:\n",
    "        d[line[0]] = {'sum': int(line[2]), 'count': 1}\n",
    "    else:\n",
    "        d[line[0]]['sum'] += int(line[2])\n",
    "        d[line[0]]['count'] += 1\n",
    "        \n",
    "with open('3.7_ans.txt', 'w') as file:\n",
    "    for i in range(1, 12):\n",
    "        if d.get(str(i)) == None:\n",
    "            file.write(f\"{i} -\\n\")\n",
    "        else:\n",
    "            file.write(f\"{i} {d[str(i)]['sum'] / d[str(i)]['count']}\\n\")"
   ]
  },
  {
   "cell_type": "code",
   "execution_count": 94,
   "id": "improved-pottery",
   "metadata": {},
   "outputs": [],
   "source": [
    "\n",
    "    "
   ]
  },
  {
   "cell_type": "code",
   "execution_count": null,
   "id": "black-correspondence",
   "metadata": {
    "scrolled": true
   },
   "outputs": [],
   "source": []
  },
  {
   "cell_type": "code",
   "execution_count": null,
   "id": "separate-approach",
   "metadata": {},
   "outputs": [],
   "source": []
  },
  {
   "cell_type": "code",
   "execution_count": null,
   "id": "wanted-insider",
   "metadata": {},
   "outputs": [],
   "source": []
  },
  {
   "cell_type": "code",
   "execution_count": null,
   "id": "sunrise-clear",
   "metadata": {},
   "outputs": [],
   "source": []
  }
 ],
 "metadata": {
  "kernelspec": {
   "display_name": "Python 3",
   "language": "python",
   "name": "python3"
  },
  "language_info": {
   "codemirror_mode": {
    "name": "ipython",
    "version": 3
   },
   "file_extension": ".py",
   "mimetype": "text/x-python",
   "name": "python",
   "nbconvert_exporter": "python",
   "pygments_lexer": "ipython3",
   "version": "3.8.7"
  }
 },
 "nbformat": 4,
 "nbformat_minor": 5
}
