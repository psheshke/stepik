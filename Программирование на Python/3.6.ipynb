{
 "cells": [
  {
   "cell_type": "code",
   "execution_count": 3,
   "id": "listed-consequence",
   "metadata": {},
   "outputs": [],
   "source": [
    "import requests\n",
    "\n",
    "with open('filename.txt') as file:\n",
    "    text = file.readline().strip()\n",
    "    \n",
    "req = requests.get(text.strip())\n",
    "\n",
    "with open('3.6_1_ans.txt', 'w') as file:\n",
    "    file.write(len(req.text.splitlines()))"
   ]
  },
  {
   "cell_type": "code",
   "execution_count": null,
   "id": "operational-country",
   "metadata": {},
   "outputs": [],
   "source": []
  },
  {
   "cell_type": "code",
   "execution_count": 33,
   "id": "antique-dakota",
   "metadata": {
    "scrolled": true
   },
   "outputs": [],
   "source": [
    "import requests\n",
    "\n",
    "url = 'https://stepic.org/media/attachments/course67/3.6.3/'\n",
    "\n",
    "with open('filename.txt') as file:\n",
    "    first_text = file.readline().strip()\n",
    "    \n",
    "req = requests.get(first_text.strip())\n",
    "while True:\n",
    "    if '.txt' in req.text:\n",
    "        req = requests.get(url+req.text)\n",
    "    else:\n",
    "        break\n",
    "        \n",
    "with open('3.6_2_ans.txt', 'w') as file:\n",
    "    file.write(req.text)"
   ]
  },
  {
   "cell_type": "code",
   "execution_count": null,
   "id": "diverse-imaging",
   "metadata": {},
   "outputs": [],
   "source": []
  },
  {
   "cell_type": "code",
   "execution_count": null,
   "id": "early-blend",
   "metadata": {},
   "outputs": [],
   "source": []
  }
 ],
 "metadata": {
  "kernelspec": {
   "display_name": "Python 3",
   "language": "python",
   "name": "python3"
  },
  "language_info": {
   "codemirror_mode": {
    "name": "ipython",
    "version": 3
   },
   "file_extension": ".py",
   "mimetype": "text/x-python",
   "name": "python",
   "nbconvert_exporter": "python",
   "pygments_lexer": "ipython3",
   "version": "3.8.7"
  }
 },
 "nbformat": 4,
 "nbformat_minor": 5
}
