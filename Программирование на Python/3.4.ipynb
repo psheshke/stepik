{
 "cells": [
  {
   "cell_type": "code",
   "execution_count": 38,
   "id": "closed-pound",
   "metadata": {},
   "outputs": [],
   "source": [
    "with open('filename.txt') as file:\n",
    "    text = file.readline().strip()\n",
    "    \n",
    "ans = ''\n",
    "\n",
    "letter = ''\n",
    "count = ''\n",
    "for l in text:\n",
    "    if not l.isdigit():\n",
    "        if count != '':\n",
    "            ans += letter * int(count)\n",
    "        letter = l\n",
    "        count = ''\n",
    "    else:\n",
    "        count += l\n",
    "ans += letter * int(count)\n",
    "\n",
    "with open('3.4_1_ans.txt', 'w') as file:\n",
    "    file.write(ans)"
   ]
  },
  {
   "cell_type": "code",
   "execution_count": 39,
   "id": "accredited-scoop",
   "metadata": {
    "scrolled": true
   },
   "outputs": [],
   "source": []
  },
  {
   "cell_type": "code",
   "execution_count": 66,
   "id": "spatial-singapore",
   "metadata": {},
   "outputs": [],
   "source": [
    "with open('filename.txt') as file:\n",
    "    text = file.read().replace('\\n', '')\n",
    "    \n",
    "d = {}\n",
    "for s in text.split():\n",
    "    if d.get(s.lower()) != None:\n",
    "        d[s.lower()] += 1\n",
    "    else:\n",
    "        d[s.lower()] = 1\n",
    "        \n",
    "max_v = 0\n",
    "max_w = ''\n",
    "\n",
    "for k, v in d.items():\n",
    "    if v > max_v:\n",
    "        max_v = v\n",
    "        max_w = k\n",
    "    if v == max_v:\n",
    "        if k < max_w:\n",
    "            max_v = v\n",
    "            max_w = k\n",
    "            \n",
    "with open('3.4_2_ans.txt', 'w') as file:\n",
    "    file.write(f'{max_w} {max_v}')"
   ]
  },
  {
   "cell_type": "code",
   "execution_count": 65,
   "id": "convinced-rebel",
   "metadata": {},
   "outputs": [],
   "source": []
  },
  {
   "cell_type": "code",
   "execution_count": 81,
   "id": "freelance-preparation",
   "metadata": {},
   "outputs": [],
   "source": [
    "with open('filename.txt') as file:\n",
    "    lines = [line.rstrip() for line in file]\n",
    "    \n",
    "sum_1 = 0\n",
    "sum_2 = 0\n",
    "sum_3 = 0\n",
    "count = 0\n",
    "\n",
    "ans = ''\n",
    "for line in lines:\n",
    "    student = line.split(';')\n",
    "    p1 = int(student[1])\n",
    "    p2 = int(student[2])\n",
    "    p3 = int(student[3])\n",
    "    sum_1 += p1\n",
    "    sum_2 += p2\n",
    "    sum_3 += p3\n",
    "    count += 1\n",
    "    ans += str( (p1 + p2 + p3) / 3 ) + '\\n'\n",
    "    \n",
    "ans += f'{sum_1 / count} {sum_2 / count} {sum_3 / count}'\n",
    "\n",
    "with open('3.4_3_ans.txt', 'w') as file:\n",
    "    file.write(ans)"
   ]
  },
  {
   "cell_type": "code",
   "execution_count": null,
   "id": "damaged-discipline",
   "metadata": {},
   "outputs": [],
   "source": []
  }
 ],
 "metadata": {
  "kernelspec": {
   "display_name": "Python 3",
   "language": "python",
   "name": "python3"
  },
  "language_info": {
   "codemirror_mode": {
    "name": "ipython",
    "version": 3
   },
   "file_extension": ".py",
   "mimetype": "text/x-python",
   "name": "python",
   "nbconvert_exporter": "python",
   "pygments_lexer": "ipython3",
   "version": "3.8.7"
  }
 },
 "nbformat": 4,
 "nbformat_minor": 5
}
