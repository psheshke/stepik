{
 "cells": [
  {
   "cell_type": "code",
   "execution_count": 2,
   "id": "hairy-seeking",
   "metadata": {},
   "outputs": [],
   "source": [
    "import math\n",
    "\n",
    "r = float(input())\n",
    "print(2 * math.pi * r)"
   ]
  },
  {
   "cell_type": "code",
   "execution_count": null,
   "id": "whole-germany",
   "metadata": {},
   "outputs": [],
   "source": []
  },
  {
   "cell_type": "code",
   "execution_count": 4,
   "id": "union-quilt",
   "metadata": {},
   "outputs": [
    {
     "data": {
      "text/plain": [
       "62.83185307179586"
      ]
     },
     "execution_count": 4,
     "metadata": {},
     "output_type": "execute_result"
    }
   ],
   "source": [
    "import sys\n",
    "\n",
    "for args in sys.argv[1:]:\n",
    "    print(args, end=' ')"
   ]
  },
  {
   "cell_type": "code",
   "execution_count": null,
   "id": "wound-transmission",
   "metadata": {},
   "outputs": [],
   "source": []
  }
 ],
 "metadata": {
  "kernelspec": {
   "display_name": "Python 3",
   "language": "python",
   "name": "python3"
  },
  "language_info": {
   "codemirror_mode": {
    "name": "ipython",
    "version": 3
   },
   "file_extension": ".py",
   "mimetype": "text/x-python",
   "name": "python",
   "nbconvert_exporter": "python",
   "pygments_lexer": "ipython3",
   "version": "3.8.7"
  }
 },
 "nbformat": 4,
 "nbformat_minor": 5
}
