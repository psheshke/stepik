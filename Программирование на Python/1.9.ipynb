{
 "cells": [
  {
   "cell_type": "code",
   "execution_count": null,
   "id": "addressed-reconstruction",
   "metadata": {},
   "outputs": [],
   "source": [
    "X = int(input())\n",
    "H = int(input())\n",
    "M = int(input())\n",
    "\n",
    "print((X+H*60+M)//60)\n",
    "print((X+H*60+M)%60)"
   ]
  },
  {
   "cell_type": "code",
   "execution_count": null,
   "id": "religious-surname",
   "metadata": {},
   "outputs": [],
   "source": []
  },
  {
   "cell_type": "code",
   "execution_count": null,
   "id": "gross-stamp",
   "metadata": {},
   "outputs": [],
   "source": [
    "Y = int(input())\n",
    "\n",
    "if Y%4==0 and Y%100!=0 or Y%400==0:\n",
    "    print('Високосный')\n",
    "else:\n",
    "    print('Обычный')"
   ]
  }
 ],
 "metadata": {
  "kernelspec": {
   "display_name": "Python 3",
   "language": "python",
   "name": "python3"
  },
  "language_info": {
   "codemirror_mode": {
    "name": "ipython",
    "version": 3
   },
   "file_extension": ".py",
   "mimetype": "text/x-python",
   "name": "python",
   "nbconvert_exporter": "python",
   "pygments_lexer": "ipython3",
   "version": "3.8.7"
  }
 },
 "nbformat": 4,
 "nbformat_minor": 5
}
