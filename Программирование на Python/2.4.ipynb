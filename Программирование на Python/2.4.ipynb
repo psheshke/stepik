{
 "cells": [
  {
   "cell_type": "code",
   "execution_count": null,
   "id": "alien-breakdown",
   "metadata": {},
   "outputs": [],
   "source": [
    "s = input().lower()\n",
    "\n",
    "n = 0\n",
    "for i in s:\n",
    "    if i in ['g', 'c']:\n",
    "        n += 1\n",
    "print(n/len(s)*100)"
   ]
  },
  {
   "cell_type": "code",
   "execution_count": null,
   "id": "attached-spanking",
   "metadata": {},
   "outputs": [],
   "source": []
  },
  {
   "cell_type": "code",
   "execution_count": null,
   "id": "empirical-venue",
   "metadata": {},
   "outputs": [],
   "source": [
    "s = input().lower()\n",
    "\n",
    "n = 0\n",
    "for i in s:\n",
    "    if i in ['g', 'c']:\n",
    "        n += 1\n",
    "print(n/len(s)*100)"
   ]
  }
 ],
 "metadata": {
  "kernelspec": {
   "display_name": "Python 3",
   "language": "python",
   "name": "python3"
  },
  "language_info": {
   "codemirror_mode": {
    "name": "ipython",
    "version": 3
   },
   "file_extension": ".py",
   "mimetype": "text/x-python",
   "name": "python",
   "nbconvert_exporter": "python",
   "pygments_lexer": "ipython3",
   "version": "3.8.7"
  }
 },
 "nbformat": 4,
 "nbformat_minor": 5
}
