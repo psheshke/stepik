{
 "cells": [
  {
   "cell_type": "code",
   "execution_count": null,
   "id": "helpful-polls",
   "metadata": {},
   "outputs": [],
   "source": [
    "Y = int(input())\n",
    "\n",
    "if Y%4==0 and Y%100!=0 or Y%400==0:\n",
    "    print('Високосный')\n",
    "else:\n",
    "    print('Обычный')"
   ]
  },
  {
   "cell_type": "code",
   "execution_count": null,
   "id": "disabled-paper",
   "metadata": {},
   "outputs": [],
   "source": []
  },
  {
   "cell_type": "code",
   "execution_count": null,
   "id": "supposed-combine",
   "metadata": {},
   "outputs": [],
   "source": [
    "x = int(input())\n",
    "\n",
    "print((-15<x<=12) or (14<x<17) or (19<=x))"
   ]
  },
  {
   "cell_type": "code",
   "execution_count": null,
   "id": "standing-sherman",
   "metadata": {},
   "outputs": [],
   "source": []
  },
  {
   "cell_type": "code",
   "execution_count": null,
   "id": "quiet-correspondence",
   "metadata": {},
   "outputs": [],
   "source": [
    "a = float(input())\n",
    "b = float(input())\n",
    "c = input()\n",
    "\n",
    "d = {'-': a-b,\n",
    "     '+': a+b,\n",
    "     }\n",
    "\n",
    "print({'-': a-b,\n",
    " '+': a+b,\n",
    " '/': [a/b if b != 0 else 'Деление на 0!'][0],\n",
    " '*': a*b,\n",
    " 'mod': [a%b if b != 0 else 'Деление на 0!'][0],\n",
    " 'pow': a**b,\n",
    " 'div': [a//b if b != 0 else 'Деление на 0!'][0],\n",
    "}[c])"
   ]
  },
  {
   "cell_type": "code",
   "execution_count": null,
   "id": "novel-listing",
   "metadata": {},
   "outputs": [],
   "source": []
  },
  {
   "cell_type": "code",
   "execution_count": null,
   "id": "affected-denmark",
   "metadata": {},
   "outputs": [],
   "source": [
    "t = input()\n",
    "\n",
    "if t == 'треугольник':\n",
    "    a = int(input())\n",
    "    b = int(input())\n",
    "    c = int(input())\n",
    "    p = (a+b+c)/2\n",
    "    s = (p*(p-a)*(p-b)*(p-c))**(1/2)\n",
    "elif t == 'прямоугольник':\n",
    "    a = int(input())\n",
    "    b = int(input())\n",
    "    s = a * b\n",
    "elif t == 'круг':\n",
    "    r = int(input())\n",
    "    s = 3.14 * r**2\n",
    "    \n",
    "print(s)"
   ]
  },
  {
   "cell_type": "code",
   "execution_count": null,
   "id": "creative-budapest",
   "metadata": {},
   "outputs": [],
   "source": []
  },
  {
   "cell_type": "code",
   "execution_count": null,
   "id": "exceptional-intensity",
   "metadata": {},
   "outputs": [],
   "source": [
    "a = int(input())\n",
    "b = int(input())\n",
    "c = int(input())\n",
    "\n",
    "print(max([a, b, c]))\n",
    "print(min([a, b, c]))\n",
    "print(a+b+c-max([a, b, c])-min([a, b, c]))"
   ]
  },
  {
   "cell_type": "code",
   "execution_count": null,
   "id": "religious-occupation",
   "metadata": {},
   "outputs": [],
   "source": []
  },
  {
   "cell_type": "code",
   "execution_count": null,
   "id": "marked-cooper",
   "metadata": {},
   "outputs": [],
   "source": [
    "n = input()\n",
    "\n",
    "if int(n) == 1:\n",
    "    print(n+ ' программист')\n",
    "elif n[-1] == '1' and n[-2:] != '11':\n",
    "    print(n+ ' программист')\n",
    "elif n[-1] in ['2', '3', '4'] and n[-2:] not in ['12', '13', '14']:\n",
    "    print(n+ ' программиста')\n",
    "elif n[-2:] == '11':\n",
    "    print(n+ ' программистов')\n",
    "else:   \n",
    "    print(n+' программистов')"
   ]
  },
  {
   "cell_type": "code",
   "execution_count": null,
   "id": "meaningful-cinema",
   "metadata": {},
   "outputs": [],
   "source": []
  },
  {
   "cell_type": "code",
   "execution_count": null,
   "id": "published-english",
   "metadata": {},
   "outputs": [],
   "source": [
    "n = input()\n",
    "\n",
    "if int(n[-1]) + int(n[-2]) + int(n[-3]) == int(n[0]) + int(n[1]) + int(n[2]):\n",
    "    print('Счастливый')\n",
    "else:\n",
    "    print('Обычный')"
   ]
  }
 ],
 "metadata": {
  "kernelspec": {
   "display_name": "Python 3",
   "language": "python",
   "name": "python3"
  },
  "language_info": {
   "codemirror_mode": {
    "name": "ipython",
    "version": 3
   },
   "file_extension": ".py",
   "mimetype": "text/x-python",
   "name": "python",
   "nbconvert_exporter": "python",
   "pygments_lexer": "ipython3",
   "version": "3.8.7"
  }
 },
 "nbformat": 4,
 "nbformat_minor": 5
}
