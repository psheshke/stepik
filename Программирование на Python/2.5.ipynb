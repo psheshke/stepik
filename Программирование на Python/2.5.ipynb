{
 "cells": [
  {
   "cell_type": "code",
   "execution_count": null,
   "id": "dress-failing",
   "metadata": {},
   "outputs": [],
   "source": [
    "print(sum([int(i) for i in input().split()]))"
   ]
  },
  {
   "cell_type": "code",
   "execution_count": null,
   "id": "consistent-convenience",
   "metadata": {},
   "outputs": [],
   "source": []
  },
  {
   "cell_type": "code",
   "execution_count": null,
   "id": "pleased-movement",
   "metadata": {},
   "outputs": [],
   "source": [
    "s = [int(i) for i in input().split()]\n",
    "if len(s) == 1:\n",
    "    print(s[0])\n",
    "else:\n",
    "    [print(i, end=(' ')) for i in [sum([s[i-1], s[i+1]]) for i in range(len(s)-1)] + [sum([s[-2], s[0]])]]"
   ]
  },
  {
   "cell_type": "code",
   "execution_count": null,
   "id": "prompt-valentine",
   "metadata": {},
   "outputs": [],
   "source": []
  },
  {
   "cell_type": "code",
   "execution_count": null,
   "id": "organizational-dialogue",
   "metadata": {},
   "outputs": [],
   "source": [
    "s = [int(i) for i in input().split()]\n",
    "ans = []\n",
    "for i in range(len(s)): \n",
    "    if s.count(s[i]) > 1:\n",
    "        if s[i] not in ans:\n",
    "            ans.append(s[i])\n",
    "[print(i, end=' ') for i in ans]"
   ]
  }
 ],
 "metadata": {
  "kernelspec": {
   "display_name": "Python 3",
   "language": "python",
   "name": "python3"
  },
  "language_info": {
   "codemirror_mode": {
    "name": "ipython",
    "version": 3
   },
   "file_extension": ".py",
   "mimetype": "text/x-python",
   "name": "python",
   "nbconvert_exporter": "python",
   "pygments_lexer": "ipython3",
   "version": "3.8.7"
  }
 },
 "nbformat": 4,
 "nbformat_minor": 5
}
