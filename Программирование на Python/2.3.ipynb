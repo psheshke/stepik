{
 "cells": [
  {
   "cell_type": "code",
   "execution_count": null,
   "id": "operational-bridge",
   "metadata": {},
   "outputs": [],
   "source": [
    "a = int(input())\n",
    "b = int(input())\n",
    "c = int(input())\n",
    "d = int(input())\n",
    "\n",
    "for i in range(c, d+1):\n",
    "    print ('\\t', i, end = '')\n",
    "print()\n",
    "for i in range(a,b+1):\n",
    "    print(i, end = '')\n",
    "    for j in range(c, d+1):\n",
    "        print ('\\t', i*j, end = '')  \n",
    "    print()"
   ]
  },
  {
   "cell_type": "code",
   "execution_count": null,
   "id": "billion-creature",
   "metadata": {},
   "outputs": [],
   "source": []
  },
  {
   "cell_type": "code",
   "execution_count": null,
   "id": "listed-christopher",
   "metadata": {},
   "outputs": [],
   "source": [
    "a = int(input())\n",
    "b = int(input())\n",
    "\n",
    "while a % 3 != 0:\n",
    "    a += 1\n",
    "\n",
    "s = 0\n",
    "n = 0\n",
    "for i in range(a, b+1,3):\n",
    "    if i % 3 == 0:\n",
    "        s += i\n",
    "        n += 1\n",
    "print(s/n)"
   ]
  }
 ],
 "metadata": {
  "kernelspec": {
   "display_name": "Python 3",
   "language": "python",
   "name": "python3"
  },
  "language_info": {
   "codemirror_mode": {
    "name": "ipython",
    "version": 3
   },
   "file_extension": ".py",
   "mimetype": "text/x-python",
   "name": "python",
   "nbconvert_exporter": "python",
   "pygments_lexer": "ipython3",
   "version": "3.8.7"
  }
 },
 "nbformat": 4,
 "nbformat_minor": 5
}
