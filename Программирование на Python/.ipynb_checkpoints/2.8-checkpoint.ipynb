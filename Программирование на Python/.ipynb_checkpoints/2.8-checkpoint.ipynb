{
 "cells": [
  {
   "cell_type": "code",
   "execution_count": 167,
   "id": "national-destruction",
   "metadata": {},
   "outputs": [
    {
     "name": "stdout",
     "output_type": "stream",
     "text": [
      "1\n"
     ]
    }
   ],
   "source": [
    "n = int(input())"
   ]
  },
  {
   "cell_type": "code",
   "execution_count": 168,
   "id": "physical-madrid",
   "metadata": {},
   "outputs": [],
   "source": [
    "a = [[0 for j in range(n)] for i in range(n)]"
   ]
  },
  {
   "cell_type": "code",
   "execution_count": 169,
   "id": "dominant-cover",
   "metadata": {},
   "outputs": [
    {
     "data": {
      "text/plain": [
       "[[0]]"
      ]
     },
     "execution_count": 169,
     "metadata": {},
     "output_type": "execute_result"
    }
   ],
   "source": [
    "a"
   ]
  },
  {
   "cell_type": "code",
   "execution_count": 170,
   "id": "charming-jungle",
   "metadata": {},
   "outputs": [],
   "source": [
    "i_min = 0\n",
    "i_max = n-1\n",
    "j_min = 0\n",
    "j_max = n-1\n",
    "k = 1\n",
    "move_to = 0"
   ]
  },
  {
   "cell_type": "code",
   "execution_count": 171,
   "id": "outstanding-manufacturer",
   "metadata": {},
   "outputs": [
    {
     "name": "stdout",
     "output_type": "stream",
     "text": [
      "START i = 0, j = 0, i(min/max) = (0/0), j(min/max) = (0/0), k = 1, move = 0\n",
      "i = 0, j = 0, i(min/max) = (0/0), j(min/max) = (0/0), k = 1, move = 0\n"
     ]
    }
   ],
   "source": [
    "i = 0\n",
    "j = 0\n",
    "\n",
    "while k <= n ** 2:\n",
    "    print(f'START i = {i}, j = {j}, i(min/max) = ({i_min}/{i_max}), j(min/max) = ({j_min}/{j_max}), k = {k}, move = {move_to}')\n",
    "    if move_to == 0:\n",
    "        while j != j_max + 1:\n",
    "            print(f'i = {i}, j = {j}, i(min/max) = ({i_min}/{i_max}), j(min/max) = ({j_min}/{j_max}), k = {k}, move = {move_to}')\n",
    "            a[i][j] = k\n",
    "            k += 1\n",
    "            j += 1\n",
    "        i_min += 1\n",
    "        i += 1\n",
    "        j -= 1\n",
    "        move_to += 1\n",
    "    elif move_to == 1:\n",
    "        while i != i_max + 1:\n",
    "            print(f'i = {i}, j = {j}, i(min/max) = ({i_min}/{i_max}), j(min/max) = ({j_min}/{j_max}), k = {k}, move = {move_to}')\n",
    "            a[i][j] = k\n",
    "            k += 1\n",
    "            i += 1\n",
    "        j_max -= 1\n",
    "        j -= 1\n",
    "        i -= 1\n",
    "        move_to += 1\n",
    "    elif move_to == 2:\n",
    "        while j != j_min - 1:\n",
    "            print(f'i = {i}, j = {j}, i(min/max) = ({i_min}/{i_max}), j(min/max) = ({j_min}/{j_max}), k = {k}, move = {move_to}')\n",
    "            a[i][j] = k\n",
    "            k += 1\n",
    "            j -= 1\n",
    "        i_max -= 1\n",
    "        i -= 1\n",
    "        j += 1\n",
    "        move_to += 1\n",
    "    elif move_to == 3:\n",
    "        while i != i_min - 1:\n",
    "            print(f'i = {i}, j = {j}, i(min/max) = ({i_min}/{i_max}), j(min/max) = ({j_min}/{j_max}), k = {k}, move = {move_to}')\n",
    "            a[i][j] = k\n",
    "            k += 1\n",
    "            i -= 1\n",
    "        j_min += 1\n",
    "        j += 1\n",
    "        i += 1\n",
    "        move_to = 0"
   ]
  },
  {
   "cell_type": "code",
   "execution_count": 172,
   "id": "pressed-milan",
   "metadata": {},
   "outputs": [
    {
     "name": "stdout",
     "output_type": "stream",
     "text": [
      "1  \n"
     ]
    }
   ],
   "source": [
    "for row in a:\n",
    "    for column in row:\n",
    "        print(str(column).ljust(2), end = ' ')\n",
    "    print()"
   ]
  }
 ],
 "metadata": {
  "kernelspec": {
   "display_name": "Python 3",
   "language": "python",
   "name": "python3"
  },
  "language_info": {
   "codemirror_mode": {
    "name": "ipython",
    "version": 3
   },
   "file_extension": ".py",
   "mimetype": "text/x-python",
   "name": "python",
   "nbconvert_exporter": "python",
   "pygments_lexer": "ipython3",
   "version": "3.8.7"
  }
 },
 "nbformat": 4,
 "nbformat_minor": 5
}
