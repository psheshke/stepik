{
 "cells": [
  {
   "cell_type": "code",
   "execution_count": 32,
   "id": "designed-lewis",
   "metadata": {},
   "outputs": [
    {
     "name": "stdout",
     "output_type": "stream",
     "text": [
      "1\n",
      "end\n"
     ]
    }
   ],
   "source": [
    "a = []\n",
    "while True:\n",
    "    s = input()\n",
    "    if s != 'end':\n",
    "        a.append([int(i) for i in s.split()])\n",
    "    else:\n",
    "        break"
   ]
  },
  {
   "cell_type": "code",
   "execution_count": 33,
   "id": "minimal-sacrifice",
   "metadata": {},
   "outputs": [
    {
     "data": {
      "text/plain": [
       "[[1]]"
      ]
     },
     "execution_count": 33,
     "metadata": {},
     "output_type": "execute_result"
    }
   ],
   "source": [
    "a"
   ]
  },
  {
   "cell_type": "code",
   "execution_count": 34,
   "id": "prospective-excerpt",
   "metadata": {},
   "outputs": [],
   "source": [
    "b = []"
   ]
  },
  {
   "cell_type": "code",
   "execution_count": 35,
   "id": "suburban-tradition",
   "metadata": {},
   "outputs": [],
   "source": [
    "m = len(a)\n",
    "n = len(a[0])"
   ]
  },
  {
   "cell_type": "code",
   "execution_count": 36,
   "id": "mysterious-bruce",
   "metadata": {},
   "outputs": [],
   "source": [
    "for i in range(len(a)):\n",
    "    row_b = []\n",
    "    for j in range(len(a[i])):\n",
    "        e1 = a[i-1][j]\n",
    "        e2 = a[i-m+1][j]\n",
    "        e3 = a[i][j-1]\n",
    "        e4 = a[i][j-n+1]\n",
    "        row_b.append(e1+e2+e3+e4)\n",
    "    b.append(row_b)"
   ]
  },
  {
   "cell_type": "code",
   "execution_count": 37,
   "id": "hairy-somewhere",
   "metadata": {},
   "outputs": [
    {
     "name": "stdout",
     "output_type": "stream",
     "text": [
      "4 \n"
     ]
    }
   ],
   "source": [
    "for row in b:\n",
    "    for column in row:\n",
    "        print(column, end = ' ')\n",
    "    print()"
   ]
  },
  {
   "cell_type": "code",
   "execution_count": null,
   "id": "violent-lender",
   "metadata": {},
   "outputs": [],
   "source": []
  }
 ],
 "metadata": {
  "kernelspec": {
   "display_name": "Python 3",
   "language": "python",
   "name": "python3"
  },
  "language_info": {
   "codemirror_mode": {
    "name": "ipython",
    "version": 3
   },
   "file_extension": ".py",
   "mimetype": "text/x-python",
   "name": "python",
   "nbconvert_exporter": "python",
   "pygments_lexer": "ipython3",
   "version": "3.8.7"
  }
 },
 "nbformat": 4,
 "nbformat_minor": 5
}
